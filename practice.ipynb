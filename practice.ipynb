{
  "nbformat": 4,
  "nbformat_minor": 0,
  "metadata": {
    "colab": {
      "provenance": [],
      "authorship_tag": "ABX9TyP5NnnGWzJuw003tXecQt89",
      "include_colab_link": true
    },
    "kernelspec": {
      "name": "python3",
      "display_name": "Python 3"
    },
    "language_info": {
      "name": "python"
    }
  },
  "cells": [
    {
      "cell_type": "markdown",
      "metadata": {
        "id": "view-in-github",
        "colab_type": "text"
      },
      "source": [
        "<a href=\"https://colab.research.google.com/github/jae-myeng/Branch-repository/blob/main/practice.ipynb\" target=\"_parent\"><img src=\"https://colab.research.google.com/assets/colab-badge.svg\" alt=\"Open In Colab\"/></a>"
      ]
    },
    {
      "cell_type": "markdown",
      "source": [
        "가나다라마바사아자차카타파하아야어여오요우유으이"
      ],
      "metadata": {
        "id": "BlKo7PZfGqei"
      }
    },
    {
      "cell_type": "code",
      "execution_count": 16,
      "metadata": {
        "colab": {
          "base_uri": "https://localhost:8080/"
        },
        "id": "ndSWVFMQDCTV",
        "outputId": "51f11595-d47c-478a-f029-93a1bb29c8db"
      },
      "outputs": [
        {
          "output_type": "stream",
          "name": "stdout",
          "text": [
            "['m', 'a', 'p', 'l', 'e', 's', 't', 'o', 'r', 'y', 'o', 'v', 'e', 'r', 'w', 'a', 't', 'c', 'h', 'l', 'e', 'a', 'g', 'u', 'e', 'o', 'f', 'l', 'e', 'g', 'e', 'n', 'd', 'd', 'u', 'n', 'g', 'r', 'e', 'e', 'd', '', '', '', '', '', '', '', '', '', '', '', '', '', '', '', '']\n",
            "['maplestoryoverwatchleagueoflegenddungreed']\n",
            "['maplestoryoverwatchleagueoflegenddungreed', '', '', '', '', '', '', '', '', '', '', '', '', '', '', '', '']\n",
            "199305\n",
            "no search found\n",
            "Mounted at /gdrive\n"
          ]
        }
      ],
      "source": [
        "import re\n",
        "string = 'maplestoryoverwatchleagueoflegenddungreed1234567890!@#$%'\n",
        "pattern = re.compile('[a-z]?')\n",
        "print(pattern.findall(string))\n",
        "pattern = re.compile('[a-z]+')\n",
        "print(pattern.findall(string))\n",
        "pattern = re.compile('[a-z]*')\n",
        "print(pattern.findall(string))\n",
        "\n",
        "regex = re.compile(r'^\\d+$')\n",
        "mo = regex.search('199305')\n",
        "if mo == None:\n",
        "    print('no search found')\n",
        "else:\n",
        "    print(mo.group())\n",
        "mo = regex.search('99food234')\n",
        "if mo == None:\n",
        "    print('no search found')\n",
        "else:\n",
        "    print(mo.group())\n",
        "\n",
        "from google.colab import drive\n",
        "drive.mount('/gdrive', force_remount=True)"
      ]
    },
    {
      "cell_type": "code",
      "source": [
        "with open('gdrive/My Drive/practice.ipynb', 'w')as f:\n",
        "    f.writelines(\"Hello google colab\")"
      ],
      "metadata": {
        "colab": {
          "base_uri": "https://localhost:8080/",
          "height": 194
        },
        "id": "s4F04ScBQ1mw",
        "outputId": "a2e35a19-4842-4f32-fae1-eda03e90afac"
      },
      "execution_count": 18,
      "outputs": [
        {
          "output_type": "error",
          "ename": "FileNotFoundError",
          "evalue": "ignored",
          "traceback": [
            "\u001b[0;31m---------------------------------------------------------------------------\u001b[0m",
            "\u001b[0;31mFileNotFoundError\u001b[0m                         Traceback (most recent call last)",
            "\u001b[0;32m<ipython-input-18-e0dbd44b5671>\u001b[0m in \u001b[0;36m<module>\u001b[0;34m\u001b[0m\n\u001b[0;32m----> 1\u001b[0;31m \u001b[0;32mwith\u001b[0m \u001b[0mopen\u001b[0m\u001b[0;34m(\u001b[0m\u001b[0;34m'gdrive/My Drive/practice.ipynb'\u001b[0m\u001b[0;34m,\u001b[0m \u001b[0;34m'w'\u001b[0m\u001b[0;34m)\u001b[0m\u001b[0;32mas\u001b[0m \u001b[0mf\u001b[0m\u001b[0;34m:\u001b[0m\u001b[0;34m\u001b[0m\u001b[0;34m\u001b[0m\u001b[0m\n\u001b[0m\u001b[1;32m      2\u001b[0m     \u001b[0mf\u001b[0m\u001b[0;34m.\u001b[0m\u001b[0mwritelines\u001b[0m\u001b[0;34m(\u001b[0m\u001b[0;34m\"Hello google colab\"\u001b[0m\u001b[0;34m)\u001b[0m\u001b[0;34m\u001b[0m\u001b[0;34m\u001b[0m\u001b[0m\n",
            "\u001b[0;31mFileNotFoundError\u001b[0m: [Errno 2] No such file or directory: 'gdrive/My Drive/practice.ipynb'"
          ]
        }
      ]
    },
    {
      "cell_type": "code",
      "source": [],
      "metadata": {
        "id": "2i4KFagqPPTk"
      },
      "execution_count": null,
      "outputs": []
    },
    {
      "cell_type": "code",
      "source": [],
      "metadata": {
        "id": "xGloGqpVDvjJ"
      },
      "execution_count": null,
      "outputs": []
    }
  ]
}