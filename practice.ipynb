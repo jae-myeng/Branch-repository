{
  "nbformat": 4,
  "nbformat_minor": 0,
  "metadata": {
    "colab": {
      "provenance": [],
      "authorship_tag": "ABX9TyMu9jFf/Es6/hKH/L5hf3Xw",
      "include_colab_link": true
    },
    "kernelspec": {
      "name": "python3",
      "display_name": "Python 3"
    },
    "language_info": {
      "name": "python"
    }
  },
  "cells": [
    {
      "cell_type": "markdown",
      "metadata": {
        "id": "view-in-github",
        "colab_type": "text"
      },
      "source": [
        "<a href=\"https://colab.research.google.com/github/jae-myeng/Branch-repository/blob/main/practice.ipynb\" target=\"_parent\"><img src=\"https://colab.research.google.com/assets/colab-badge.svg\" alt=\"Open In Colab\"/></a>"
      ]
    },
    {
      "cell_type": "markdown",
      "source": [
        "가나다라마바사아자차카타파하아야어여오요우유으이"
      ],
      "metadata": {
        "id": "BlKo7PZfGqei"
      }
    },
    {
      "cell_type": "code",
      "execution_count": 16,
      "metadata": {
        "colab": {
          "base_uri": "https://localhost:8080/"
        },
        "id": "ndSWVFMQDCTV",
        "outputId": "51f11595-d47c-478a-f029-93a1bb29c8db"
      },
      "outputs": [
        {
          "output_type": "stream",
          "name": "stdout",
          "text": [
            "['m', 'a', 'p', 'l', 'e', 's', 't', 'o', 'r', 'y', 'o', 'v', 'e', 'r', 'w', 'a', 't', 'c', 'h', 'l', 'e', 'a', 'g', 'u', 'e', 'o', 'f', 'l', 'e', 'g', 'e', 'n', 'd', 'd', 'u', 'n', 'g', 'r', 'e', 'e', 'd', '', '', '', '', '', '', '', '', '', '', '', '', '', '', '', '']\n",
            "['maplestoryoverwatchleagueoflegenddungreed']\n",
            "['maplestoryoverwatchleagueoflegenddungreed', '', '', '', '', '', '', '', '', '', '', '', '', '', '', '', '']\n",
            "199305\n",
            "no search found\n",
            "Mounted at /gdrive\n"
          ]
        }
      ],
      "source": [
        "regexsub = re.compile(r'apple')\n",
        "str1 = regexsub.sub('TOMATO', 'we love to eat apple, fresh apple in the morningis my favorite dessert')\n",
        "print(str1)\n",
        "\n",
        "regex = re.compile(r'apple (\\w)\\w*')\n",
        "mo = regex.search('We just love apple A')\n",
        "print(mo.group())\n",
        "str1 = regex.sub(r'\\1XXX', 'We just love apple banana')\n",
        "print(str1)\n",
        "\n",
        "\n",
        "regex = re.compile(r'^\\d+$')\n",
        "mo = regex.search('199305')\n",
        "if mo == None:\n",
        "    print('no search found')\n",
        "else:\n",
        "    print(mo.group())\n",
        "mo = regex.search('99food234')\n",
        "if mo == None:\n",
        "    print('no search found')\n",
        "else:\n",
        "    print(mo.group())\n",
        "\n",
        "from google.colab import drive\n",
        "drive.mount('/gdrive', force_remount=True)"
      ]
    },
    {
      "cell_type": "code",
      "source": [],
      "metadata": {
        "id": "2i4KFagqPPTk"
      },
      "execution_count": null,
      "outputs": []
    },
    {
      "cell_type": "code",
      "source": [],
      "metadata": {
        "id": "xGloGqpVDvjJ"
      },
      "execution_count": null,
      "outputs": []
    }
  ]
}